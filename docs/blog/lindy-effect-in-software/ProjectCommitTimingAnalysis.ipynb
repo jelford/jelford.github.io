{
 "cells": [
  {
   "cell_type": "code",
   "execution_count": null,
   "metadata": {},
   "outputs": [],
   "source": [
    "import pandas as pd\n",
    "import numpy as np\n",
    "import seaborn as sns\n",
    "import matplotlib.pyplot as plt\n",
    "sns.set(color_codes=True)"
   ]
  },
  {
   "cell_type": "markdown",
   "metadata": {},
   "source": [
    "# Data Import"
   ]
  },
  {
   "cell_type": "code",
   "execution_count": null,
   "metadata": {},
   "outputs": [],
   "source": [
    "raw_data = pd.read_csv('~/Downloads/bq-results-20200613-172659-qyga7irf1y6u.csv')"
   ]
  },
  {
   "cell_type": "code",
   "execution_count": null,
   "metadata": {},
   "outputs": [],
   "source": [
    "parsed_data = pd.concat([\n",
    "        raw_data['project_name'], \n",
    "        pd.to_datetime(raw_data['earliest_commit_sec'], unit='s'),\n",
    "        pd.to_datetime(raw_data['latest_commit_sec'], unit='s'),\n",
    "        raw_data['number_of_commits']\n",
    "    ], axis=1\n",
    ")\n",
    "parsed_data.set_index(['project_name'], inplace=True)\n",
    "\n",
    "# get an idea of \"now\" that accounts for when the dataset was actually updated\n",
    "now = parsed_data['earliest_commit_sec'].max()\n",
    "\n",
    "parsed_data = parsed_data.loc[parsed_data.latest_commit_sec < (now - pd.Timedelta(days=90))]\n",
    "parsed_data['project_age'] = parsed_data.latest_commit_sec - parsed_data.earliest_commit_sec"
   ]
  },
  {
   "cell_type": "code",
   "execution_count": null,
   "metadata": {},
   "outputs": [],
   "source": [
    "data = parsed_data.copy()\n",
    "all_project_ages = data.project_age.dt.days / 365.25\n",
    "all_project_ages = all_project_ages.loc[all_project_ages > 0]\n",
    "all_project_ages.name = 'project_age_years'"
   ]
  },
  {
   "cell_type": "markdown",
   "metadata": {},
   "source": [
    "# Data exploration"
   ]
  },
  {
   "cell_type": "code",
   "execution_count": null,
   "metadata": {},
   "outputs": [],
   "source": [
    "project_ages = all_project_ages.copy()"
   ]
  },
  {
   "cell_type": "code",
   "execution_count": null,
   "metadata": {},
   "outputs": [],
   "source": [
    "try:\n",
    "    fig.clear()\n",
    "    del fig\n",
    "except NameError:\n",
    "    pass\n",
    "\n",
    "fig, ax = plt.subplots()\n",
    "plt.subplot(1, 3, 1)\n",
    "sns.distplot(project_ages, kde=False, bins=[0, 5, 10, 15, 20, 25, 30, 35, 40, 45, 50])\n",
    "plt.subplot(1, 3, 3)\n",
    "sns.distplot(project_ages, kde=False, bins=[10, 15, 20, 25, 30, 35, 40, 45, 50])\n",
    "fig.savefig('project_age_years_hist.svg', bbox_inches='tight')"
   ]
  },
  {
   "cell_type": "code",
   "execution_count": null,
   "metadata": {},
   "outputs": [],
   "source": [
    "project_ages = project_ages.loc[project_ages < 20]"
   ]
  },
  {
   "cell_type": "code",
   "execution_count": null,
   "metadata": {},
   "outputs": [],
   "source": []
  },
  {
   "cell_type": "code",
   "execution_count": null,
   "metadata": {},
   "outputs": [],
   "source": [
    "fig, ax = plt.subplots()\n",
    "sns.distplot(project_ages, ax=ax, bins=range(20))\n",
    "fig.savefig('project-age-simple-distribution.svg', bbox_inches='tight')"
   ]
  },
  {
   "cell_type": "code",
   "execution_count": null,
   "metadata": {},
   "outputs": [],
   "source": [
    "fig, ax = plt.subplots()\n",
    "sns.distplot(project_ages, ax=ax, bins=range(20))\n",
    "ax.set_yscale('log')\n",
    "ax.set_ylabel('log(2) kde')\n",
    "fig.savefig('project-age-log-distribution.svg')"
   ]
  },
  {
   "cell_type": "code",
   "execution_count": null,
   "metadata": {},
   "outputs": [],
   "source": [
    "fig, ax = plt.subplots(figsize=(20, 10))\n",
    "sns.distplot(project_ages, ax=ax, bins=range(20))\n",
    "ax.set_yscale('log', basey=2)\n",
    "ax.set_ylabel('log(2) kde')\n",
    "fig.savefig('project-age-log-distribution-filtered.svg', bbox_inches='tight')"
   ]
  },
  {
   "cell_type": "code",
   "execution_count": null,
   "metadata": {},
   "outputs": [],
   "source": [
    "fig, ax = plt.subplots(figsize=(20, 10))\n",
    "sns.distplot(project_ages, ax=ax)\n",
    "ax.set_yscale('log', basey=2)\n",
    "ax.set_ylabel('log(2) kde')\n",
    "ax.set_xscale('log', basex=2)\n",
    "ax.set_xlabel('log(2) project_age_years')\n",
    "fig.savefig('project-age-log-log-distribution-filtered.svg', bbox_inches='tight')"
   ]
  },
  {
   "cell_type": "markdown",
   "metadata": {},
   "source": [
    "# Analysis"
   ]
  },
  {
   "cell_type": "code",
   "execution_count": null,
   "metadata": {},
   "outputs": [],
   "source": [
    "def compute_life_expectancies(data_points, max_age):\n",
    "    rles = []\n",
    "    for year in range(0, 2*max_age):\n",
    "        year = year/2.0\n",
    "        projects_that_live_long_enough = project_ages.loc[project_ages > year]\n",
    "        remaining_life_expectancies = projects_that_live_long_enough - year\n",
    "        rle = pd.DataFrame({'years_past': year, 'remaining_life_years': remaining_life_expectancies})\n",
    "        rles.append(rle)\n",
    "        \n",
    "    return pd.concat(rles)\n",
    "\n",
    "\n",
    "def plot_expectancies(life_expectancy_data):\n",
    "\n",
    "    fig, ax = plt.subplots(figsize=(20,10))\n",
    "    \n",
    "    rles = life_expectancy_data.groupby(['years_past']).remaining_life_years\n",
    "    rles = rles.agg([\n",
    "        'mean',\n",
    "        lambda x: x.quantile(0.3),\n",
    "        'median',\n",
    "        lambda x: x.quantile(0.9),\n",
    "    ])\n",
    "    rles.columns = [\n",
    "        'life expectancy (mean)',\n",
    "        '30th-percentile',\n",
    "        '50th-percentile',\n",
    "        '90th-percentile', \n",
    "    ]\n",
    "    \n",
    "    rles.plot(ax=ax)\n",
    "    \n",
    "    ax.legend(loc='upper right')\n",
    "    ax.set_ylabel('Estimated remaining life expectancy (years)')\n",
    "    ax.set_zorder(2)\n",
    "    ax.patch.set_alpha(0.8)\n",
    "    ax.set_yticks(range(0, int(life_expectancy_data.years_past.max()) + 2, 2))\n",
    "    \n",
    "    sample_count = life_expectancy_data.groupby(['years_past']).count()\n",
    "    rh_ax = ax.twinx()\n",
    "    l2 = rh_ax.bar(\n",
    "        sample_count.index, sample_count.remaining_life_years,\n",
    "        width=0.3, color='grey',\n",
    "        label='samples used')\n",
    "    rh_ax.set_ylabel('log(10) Number of samples used')\n",
    "    rh_ax.set_yscale('log')\n",
    "    rh_ax.set_ylim([1, 10_000_000])\n",
    "    rh_ax.legend(loc='lower right')\n",
    "    rh_ax.set_zorder(1)\n",
    "    \n",
    "    \n",
    "    return fig\n"
   ]
  },
  {
   "cell_type": "markdown",
   "metadata": {},
   "source": [
    "## remaining life expectancies - all data points"
   ]
  },
  {
   "cell_type": "code",
   "execution_count": null,
   "metadata": {},
   "outputs": [],
   "source": [
    "try:\n",
    "    fig.clear()\n",
    "    del fig\n",
    "except NameError:\n",
    "    pass\n"
   ]
  },
  {
   "cell_type": "code",
   "execution_count": null,
   "metadata": {},
   "outputs": [],
   "source": [
    "project_ages = all_project_ages.copy()\n",
    "rle_data = compute_life_expectancies(project_ages, 30)"
   ]
  },
  {
   "cell_type": "code",
   "execution_count": null,
   "metadata": {},
   "outputs": [],
   "source": [
    "fig = plot_expectancies(rle_data)\n",
    "fig.savefig('remaining_life_expectancy_all.svg', bbox_inches='tight')"
   ]
  },
  {
   "cell_type": "markdown",
   "metadata": {},
   "source": [
    "## remaining life expectancies - cut down"
   ]
  },
  {
   "cell_type": "code",
   "execution_count": null,
   "metadata": {},
   "outputs": [],
   "source": [
    "try:\n",
    "    fig.clear()\n",
    "    del fig\n",
    "except NameError:\n",
    "    pass\n"
   ]
  },
  {
   "cell_type": "code",
   "execution_count": null,
   "metadata": {},
   "outputs": [],
   "source": [
    "\n",
    "project_ages = all_project_ages.copy()\n",
    "project_ages = project_ages.loc[project_ages < 30]"
   ]
  },
  {
   "cell_type": "code",
   "execution_count": null,
   "metadata": {},
   "outputs": [],
   "source": [
    "rle_data = compute_life_expectancies(project_ages, 10)\n"
   ]
  },
  {
   "cell_type": "code",
   "execution_count": null,
   "metadata": {},
   "outputs": [],
   "source": [
    "project_ages.quantile(0.4)"
   ]
  },
  {
   "cell_type": "code",
   "execution_count": null,
   "metadata": {},
   "outputs": [],
   "source": [
    "rle_data.loc[rle_data.years_past == 0.0].remaining_life_years.quantile(0.1)"
   ]
  },
  {
   "cell_type": "code",
   "execution_count": null,
   "metadata": {},
   "outputs": [],
   "source": [
    "fig = plot_expectancies(rle_data)\n",
    "fig.savefig('remaining_life_expectancy_sub_10.svg', bbox_inches='tight')"
   ]
  },
  {
   "cell_type": "code",
   "execution_count": null,
   "metadata": {},
   "outputs": [],
   "source": []
  }
 ],
 "metadata": {
  "kernelspec": {
   "display_name": "Python 3",
   "language": "python",
   "name": "python3"
  },
  "language_info": {
   "codemirror_mode": {
    "name": "ipython",
    "version": 3
   },
   "file_extension": ".py",
   "mimetype": "text/x-python",
   "name": "python",
   "nbconvert_exporter": "python",
   "pygments_lexer": "ipython3",
   "version": "3.8.3"
  }
 },
 "nbformat": 4,
 "nbformat_minor": 4
}
